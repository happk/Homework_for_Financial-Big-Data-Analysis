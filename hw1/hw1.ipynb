{
 "cells": [
  {
   "cell_type": "markdown",
   "metadata": {},
   "source": [
    "## 1.用API爬取**證券交易所**\n",
    "- [TWSE OpenAPI](https://openapi.twse.com.tw/#/%E8%AD%89%E5%88%B8%E4%BA%A4%E6%98%93/get_exchangeReport_STOCK_FIRST)\n",
    "\n",
    "- 'https://openapi.twse.com.tw/v1/exchangeReport/STOCK_FIRST'"
   ]
  },
  {
   "cell_type": "code",
   "execution_count": 1,
   "metadata": {},
   "outputs": [],
   "source": [
    "import requests"
   ]
  },
  {
   "cell_type": "code",
   "execution_count": 6,
   "metadata": {},
   "outputs": [
    {
     "name": "stdout",
     "output_type": "stream",
     "text": [
      "[Get data successfully]\n",
      "共有 1255 筆資料\n"
     ]
    }
   ],
   "source": [
    "API = 'https://openapi.twse.com.tw/v1//exchangeReport/STOCK_DAY_ALL'    # 台灣證券交易所 - 個股日成交資訊\n",
    "response = requests.get(API)\n",
    "if response.status_code == 200:\n",
    "    print('[Get data successfully]')\n",
    "else:\n",
    "    print('[Fail to get data]')\n",
    "    \n",
    "data = response.json()\n",
    "print(f'共有 {len(data)} 筆資料')\n"
   ]
  },
  {
   "cell_type": "code",
   "execution_count": 7,
   "metadata": {},
   "outputs": [
    {
     "name": "stdout",
     "output_type": "stream",
     "text": [
      "{'Code': '0050', 'Name': '元大台灣50', 'TradeVolume': '14311332', 'TradeValue': '2620276842', 'OpeningPrice': '183.10', 'HighestPrice': '184.10', 'LowestPrice': '182.45', 'ClosingPrice': '182.45', 'Change': '2.3000', 'Transaction': '16087'}\n"
     ]
    }
   ],
   "source": [
    "print(data[0])"
   ]
  },
  {
   "cell_type": "markdown",
   "metadata": {},
   "source": [
    "重視的資訊:\n",
    "- OpeningPrice\n",
    "- HighestPrice\n",
    "- LowestPrice\n",
    "- ClosingPrice"
   ]
  },
  {
   "cell_type": "code",
   "execution_count": 16,
   "metadata": {},
   "outputs": [],
   "source": [
    "# Transform data to pandas dataframe\n",
    "import pandas as pd\n",
    "from matplotlib import pyplot as plt\n",
    "import seaborn as sns"
   ]
  },
  {
   "cell_type": "code",
   "execution_count": 9,
   "metadata": {},
   "outputs": [],
   "source": [
    "list = []\n",
    "for d in data:\n",
    "    list.append(d.values())\n",
    "df = pd.DataFrame(list, columns=data[0].keys())"
   ]
  },
  {
   "cell_type": "code",
   "execution_count": 10,
   "metadata": {},
   "outputs": [
    {
     "data": {
      "text/html": [
       "<div>\n",
       "<style scoped>\n",
       "    .dataframe tbody tr th:only-of-type {\n",
       "        vertical-align: middle;\n",
       "    }\n",
       "\n",
       "    .dataframe tbody tr th {\n",
       "        vertical-align: top;\n",
       "    }\n",
       "\n",
       "    .dataframe thead th {\n",
       "        text-align: right;\n",
       "    }\n",
       "</style>\n",
       "<table border=\"1\" class=\"dataframe\">\n",
       "  <thead>\n",
       "    <tr style=\"text-align: right;\">\n",
       "      <th></th>\n",
       "      <th>Code</th>\n",
       "      <th>Name</th>\n",
       "      <th>TradeVolume</th>\n",
       "      <th>TradeValue</th>\n",
       "      <th>OpeningPrice</th>\n",
       "      <th>HighestPrice</th>\n",
       "      <th>LowestPrice</th>\n",
       "      <th>ClosingPrice</th>\n",
       "      <th>Change</th>\n",
       "      <th>Transaction</th>\n",
       "    </tr>\n",
       "  </thead>\n",
       "  <tbody>\n",
       "    <tr>\n",
       "      <th>0</th>\n",
       "      <td>0050</td>\n",
       "      <td>元大台灣50</td>\n",
       "      <td>14311332</td>\n",
       "      <td>2620276842</td>\n",
       "      <td>183.10</td>\n",
       "      <td>184.10</td>\n",
       "      <td>182.45</td>\n",
       "      <td>182.45</td>\n",
       "      <td>2.3000</td>\n",
       "      <td>16087</td>\n",
       "    </tr>\n",
       "    <tr>\n",
       "      <th>1</th>\n",
       "      <td>0051</td>\n",
       "      <td>元大中型100</td>\n",
       "      <td>47993</td>\n",
       "      <td>3870924</td>\n",
       "      <td>80.95</td>\n",
       "      <td>80.95</td>\n",
       "      <td>80.20</td>\n",
       "      <td>80.35</td>\n",
       "      <td>-0.2500</td>\n",
       "      <td>284</td>\n",
       "    </tr>\n",
       "    <tr>\n",
       "      <th>2</th>\n",
       "      <td>0052</td>\n",
       "      <td>富邦科技</td>\n",
       "      <td>719628</td>\n",
       "      <td>128609934</td>\n",
       "      <td>180.00</td>\n",
       "      <td>180.00</td>\n",
       "      <td>177.80</td>\n",
       "      <td>177.80</td>\n",
       "      <td>1.8500</td>\n",
       "      <td>1233</td>\n",
       "    </tr>\n",
       "    <tr>\n",
       "      <th>3</th>\n",
       "      <td>0053</td>\n",
       "      <td>元大電子</td>\n",
       "      <td>18214</td>\n",
       "      <td>1785055</td>\n",
       "      <td>97.20</td>\n",
       "      <td>98.75</td>\n",
       "      <td>97.20</td>\n",
       "      <td>97.75</td>\n",
       "      <td>1.3000</td>\n",
       "      <td>142</td>\n",
       "    </tr>\n",
       "    <tr>\n",
       "      <th>4</th>\n",
       "      <td>0055</td>\n",
       "      <td>元大MSCI金融</td>\n",
       "      <td>185273</td>\n",
       "      <td>5382220</td>\n",
       "      <td>29.01</td>\n",
       "      <td>29.20</td>\n",
       "      <td>29.01</td>\n",
       "      <td>29.04</td>\n",
       "      <td>0.0500</td>\n",
       "      <td>263</td>\n",
       "    </tr>\n",
       "    <tr>\n",
       "      <th>...</th>\n",
       "      <td>...</td>\n",
       "      <td>...</td>\n",
       "      <td>...</td>\n",
       "      <td>...</td>\n",
       "      <td>...</td>\n",
       "      <td>...</td>\n",
       "      <td>...</td>\n",
       "      <td>...</td>\n",
       "      <td>...</td>\n",
       "      <td>...</td>\n",
       "    </tr>\n",
       "    <tr>\n",
       "      <th>1250</th>\n",
       "      <td>9944</td>\n",
       "      <td>新麗</td>\n",
       "      <td>127455</td>\n",
       "      <td>2573894</td>\n",
       "      <td>20.10</td>\n",
       "      <td>20.30</td>\n",
       "      <td>20.10</td>\n",
       "      <td>20.25</td>\n",
       "      <td>0.0500</td>\n",
       "      <td>215</td>\n",
       "    </tr>\n",
       "    <tr>\n",
       "      <th>1251</th>\n",
       "      <td>9945</td>\n",
       "      <td>潤泰新</td>\n",
       "      <td>25455283</td>\n",
       "      <td>1205535610</td>\n",
       "      <td>48.45</td>\n",
       "      <td>48.60</td>\n",
       "      <td>46.30</td>\n",
       "      <td>47.50</td>\n",
       "      <td>-1.7500</td>\n",
       "      <td>17945</td>\n",
       "    </tr>\n",
       "    <tr>\n",
       "      <th>1252</th>\n",
       "      <td>9946</td>\n",
       "      <td>三發地產</td>\n",
       "      <td>3318845</td>\n",
       "      <td>100416055</td>\n",
       "      <td>30.80</td>\n",
       "      <td>30.95</td>\n",
       "      <td>29.70</td>\n",
       "      <td>30.90</td>\n",
       "      <td>-2.1000</td>\n",
       "      <td>2004</td>\n",
       "    </tr>\n",
       "    <tr>\n",
       "      <th>1253</th>\n",
       "      <td>9955</td>\n",
       "      <td>佳龍</td>\n",
       "      <td>1357583</td>\n",
       "      <td>49492777</td>\n",
       "      <td>36.55</td>\n",
       "      <td>36.90</td>\n",
       "      <td>36.15</td>\n",
       "      <td>36.30</td>\n",
       "      <td>0.3500</td>\n",
       "      <td>931</td>\n",
       "    </tr>\n",
       "    <tr>\n",
       "      <th>1254</th>\n",
       "      <td>9958</td>\n",
       "      <td>世紀鋼</td>\n",
       "      <td>26598234</td>\n",
       "      <td>6467597994</td>\n",
       "      <td>240.00</td>\n",
       "      <td>250.50</td>\n",
       "      <td>234.50</td>\n",
       "      <td>241.50</td>\n",
       "      <td>7.0000</td>\n",
       "      <td>29946</td>\n",
       "    </tr>\n",
       "  </tbody>\n",
       "</table>\n",
       "<p>1255 rows × 10 columns</p>\n",
       "</div>"
      ],
      "text/plain": [
       "      Code      Name TradeVolume  TradeValue OpeningPrice HighestPrice  \\\n",
       "0     0050    元大台灣50    14311332  2620276842       183.10       184.10   \n",
       "1     0051   元大中型100       47993     3870924        80.95        80.95   \n",
       "2     0052      富邦科技      719628   128609934       180.00       180.00   \n",
       "3     0053      元大電子       18214     1785055        97.20        98.75   \n",
       "4     0055  元大MSCI金融      185273     5382220        29.01        29.20   \n",
       "...    ...       ...         ...         ...          ...          ...   \n",
       "1250  9944        新麗      127455     2573894        20.10        20.30   \n",
       "1251  9945       潤泰新    25455283  1205535610        48.45        48.60   \n",
       "1252  9946      三發地產     3318845   100416055        30.80        30.95   \n",
       "1253  9955        佳龍     1357583    49492777        36.55        36.90   \n",
       "1254  9958       世紀鋼    26598234  6467597994       240.00       250.50   \n",
       "\n",
       "     LowestPrice ClosingPrice   Change Transaction  \n",
       "0         182.45       182.45   2.3000       16087  \n",
       "1          80.20        80.35  -0.2500         284  \n",
       "2         177.80       177.80   1.8500        1233  \n",
       "3          97.20        97.75   1.3000         142  \n",
       "4          29.01        29.04   0.0500         263  \n",
       "...          ...          ...      ...         ...  \n",
       "1250       20.10        20.25   0.0500         215  \n",
       "1251       46.30        47.50  -1.7500       17945  \n",
       "1252       29.70        30.90  -2.1000        2004  \n",
       "1253       36.15        36.30   0.3500         931  \n",
       "1254      234.50       241.50   7.0000       29946  \n",
       "\n",
       "[1255 rows x 10 columns]"
      ]
     },
     "execution_count": 10,
     "metadata": {},
     "output_type": "execute_result"
    }
   ],
   "source": [
    "df"
   ]
  },
  {
   "cell_type": "code",
   "execution_count": 22,
   "metadata": {},
   "outputs": [],
   "source": [
    "from pylab import mpl\n",
    "from matplotlib import pyplot as plt\n",
    "# 繁體中文\n",
    "mpl.rcParams[\"font.sans-serif\"] = [\"Microsoft JhengHei\"]"
   ]
  },
  {
   "cell_type": "code",
   "execution_count": null,
   "metadata": {},
   "outputs": [],
   "source": []
  }
 ],
 "metadata": {
  "kernelspec": {
   "display_name": "data",
   "language": "python",
   "name": "python3"
  },
  "language_info": {
   "codemirror_mode": {
    "name": "ipython",
    "version": 3
   },
   "file_extension": ".py",
   "mimetype": "text/x-python",
   "name": "python",
   "nbconvert_exporter": "python",
   "pygments_lexer": "ipython3",
   "version": "3.9.0"
  }
 },
 "nbformat": 4,
 "nbformat_minor": 2
}
